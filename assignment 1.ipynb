{
 "cells": [
  {
   "cell_type": "markdown",
   "id": "ca19eb07-f251-4f86-b115-a627c59d909f",
   "metadata": {},
   "source": [
    "Ans1:-\n",
    "Tuple() in Python refers to one of the four built-in data types in Python that are used to store collections of objects separated by commas within a single variable. \n",
    "\n",
    "Characteristics of Tuples\n",
    "\n",
    "Tuples have the given characteristics:\n",
    "\n",
    "They are indexed\n",
    "\n",
    "Tuples are ordered\n",
    "\n",
    "These are immutable\n",
    "\n",
    "They can contain duplicate items\n",
    "\n",
    "\n",
    "yes tuples are immutable that means you can't change the object's state after you've created it."
   ]
  },
  {
   "cell_type": "markdown",
   "id": "c6f5cdd3-cf1c-4805-8123-45247a8bcd43",
   "metadata": {},
   "source": [
    "Ans2:-\n",
    "There are two built-in methods for tuples in Python:\n",
    "\n",
    "1st function is count(): This method returns the number of times a specified value appears in the tuple.\n",
    "\n",
    "Example:\n"
   ]
  },
  {
   "cell_type": "code",
   "execution_count": 1,
   "id": "a5b370d2-8490-4799-9da8-d4a6310d97fd",
   "metadata": {},
   "outputs": [
    {
     "name": "stdout",
     "output_type": "stream",
     "text": [
      "3\n"
     ]
    }
   ],
   "source": [
    "t = (1, 2, 3, 2, 4, 2, 5)\n",
    "print(t.count(2)) \n"
   ]
  },
  {
   "cell_type": "markdown",
   "id": "b6ced40f-750b-4d99-8b04-558bab843f0f",
   "metadata": {},
   "source": [
    "2nd function is index(): This method returns the index of the first occurrence of a specified value in the tuple.\n",
    "\n",
    "Example:"
   ]
  },
  {
   "cell_type": "code",
   "execution_count": 3,
   "id": "62e36eb5-bc0c-4234-8d2c-a64bed7189d9",
   "metadata": {},
   "outputs": [
    {
     "name": "stdout",
     "output_type": "stream",
     "text": [
      "0\n"
     ]
    }
   ],
   "source": [
    "t = (1, 2, 3, 2, 4, 2, 5)\n",
    "print(t.index(1)) \n"
   ]
  },
  {
   "cell_type": "markdown",
   "id": "17838bdf-76a0-4a23-b620-8aa1bb2b3ffc",
   "metadata": {},
   "source": [
    "Tuples have only two in-built methods, unlike lists, because tuples are immutable, meaning their contents cannot be modified after they are created. Therefore, methods like append() or remove() that modify the tuple are not useful for tuples. In contrast, lists are mutable, so they have many more in-built methods to add, remove, or modify elements."
   ]
  },
  {
   "cell_type": "code",
   "execution_count": null,
   "id": "f4631341-7c41-4fad-8e04-0de3a665ff7e",
   "metadata": {},
   "outputs": [],
   "source": []
  },
  {
   "cell_type": "markdown",
   "id": "72443a27-f2b6-43d5-a627-01cb735fca9d",
   "metadata": {},
   "source": [
    "Ans 3:-\n",
    "The data set in Python that does not allow duplicate values is called a set.\n",
    "\n",
    "In Python, a set is an unordered collection of unique elements. This means that each element in a set must be unique. If you try to add a duplicate element to a set, it will simply be ignored.\n",
    "code using a set to remove\n",
    "duplicates from the given list is\n",
    "List = [1, 1, 1, 2, 1, 3, 1, 4, 2, 1, 2, 2, 2, 3, 2, 4, 3, 1, 3, 2, 3, 3, 3, 4, 4, 1, 4, 2, 4, 3, 4, 4]"
   ]
  },
  {
   "cell_type": "code",
   "execution_count": 7,
   "id": "410fc5ae-0507-4333-a628-46e4f4f5cc44",
   "metadata": {},
   "outputs": [
    {
     "name": "stdout",
     "output_type": "stream",
     "text": [
      "{1, 2, 3, 4}\n"
     ]
    }
   ],
   "source": [
    "set1= {1, 1, 1, 2, 1, 3, 1, 4, 2, 1, 2, 2, 2, 3, 2, 4, 3, 1, 3, 2, 3, 3, 3, 4, 4, 1, 4, 2, 4, 3, 4, 4}\n",
    "print(set1)"
   ]
  },
  {
   "cell_type": "markdown",
   "id": "dc92cefa-d9dc-4de8-a9ed-6ddbcd8a8f24",
   "metadata": {},
   "source": [
    "Ans4 :-\n",
    "Both union() and update() methods are used for combining two sets in Python. The main difference between them is that \n",
    "union() method returns a new set containing all the unique elements from both sets, while update() method adds all the \n",
    "unique elements from the second set to the first set.\n",
    "\n",
    "Here are the examples of both methods:\n",
    "\n",
    "Example using union() method:"
   ]
  },
  {
   "cell_type": "code",
   "execution_count": 9,
   "id": "a657211b-50ba-45c6-884d-700a4e21d60e",
   "metadata": {},
   "outputs": [
    {
     "name": "stdout",
     "output_type": "stream",
     "text": [
      "{1, 2, 3, 4, 5}\n"
     ]
    }
   ],
   "source": [
    "set1 = {1, 2, 3}\n",
    "set2 = {3, 4, 5}\n",
    "set3 = set1.union(set2)\n",
    "print(set3)"
   ]
  },
  {
   "cell_type": "markdown",
   "id": "51a1f536-fb15-411a-b7ce-08a70c24a1bd",
   "metadata": {},
   "source": [
    "In this example, we have two sets set1 and set2 containing some common elements. We then use the union() method to\n",
    "combine both sets and store the result in set3. As a result, set3 contains all the unique elements from both set1 and\n",
    "set2.\n",
    "\n",
    "Example using update() method:"
   ]
  },
  {
   "cell_type": "code",
   "execution_count": 10,
   "id": "e3c88345-e6b3-4b4a-984e-f3fc41d65b9d",
   "metadata": {},
   "outputs": [
    {
     "name": "stdout",
     "output_type": "stream",
     "text": [
      "{1, 2, 3, 4, 5}\n"
     ]
    }
   ],
   "source": [
    "set1 = {1, 2, 3}\n",
    "set2 = {3, 4, 5}\n",
    "set1.update(set2)\n",
    "print(set1)"
   ]
  },
  {
   "cell_type": "markdown",
   "id": "211ee219-d95b-4c2d-ba80-e434d44f89b4",
   "metadata": {},
   "source": [
    "In this example, we have two sets set1 and set2 containing some common elements. We then use the update() method to add all the unique elements from set2 to set1. As a result, set1 now contains all the unique elements from both set1 and set2.\n",
    "\n",
    "To summarize, the union() method returns a new set containing all the unique elements from both sets, while update() method adds all the unique elements from the second set to the first set."
   ]
  },
  {
   "cell_type": "code",
   "execution_count": null,
   "id": "f9a5632e-d06a-4219-83dc-de6e7b76e9b9",
   "metadata": {},
   "outputs": [],
   "source": []
  },
  {
   "cell_type": "code",
   "execution_count": null,
   "id": "18e943e1-cb40-4701-a562-777eb4f65208",
   "metadata": {},
   "outputs": [],
   "source": [
    "Ans5 :- A dictionary is a type of data structure in python programming that stores data in key-value pairs.\n",
    "In a dictionary, each key maps to a corresponding value, which can be any type of data such as strings, integers, or even \n",
    "other dictionaries.\n",
    "\n",
    "Here is an example of a dictionary "
   ]
  },
  {
   "cell_type": "code",
   "execution_count": 10,
   "id": "15bfe799-daa5-4d52-866d-7c7b56b0add3",
   "metadata": {},
   "outputs": [
    {
     "name": "stdout",
     "output_type": "stream",
     "text": [
      "{'lionel': 10, 'iniesta': 8}\n"
     ]
    }
   ],
   "source": [
    "mydict={'lionel':10, 'iniesta':8}\n",
    "print(mydict)"
   ]
  },
  {
   "cell_type": "markdown",
   "id": "450f9505-700c-4db5-8ade-ce81a1d4863c",
   "metadata": {},
   "source": [
    "In this example, the keys are \"lionel\" and \"iniesta\", and their corresponding values are 10 and 8 respectively.\n",
    "\n",
    "Dictionaries in Python are unordered, which means that the order in which the items are added to the dictionary is not preserved. However, dictionaries have been guaranteed to maintain the insertion order of their items."
   ]
  },
  {
   "cell_type": "code",
   "execution_count": null,
   "id": "e7d3d023-c82b-47ab-aaf0-7fdb67b75069",
   "metadata": {},
   "outputs": [],
   "source": []
  },
  {
   "cell_type": "markdown",
   "id": "c7323525-bd73-47f9-b21c-808b9ea83bdc",
   "metadata": {},
   "source": [
    "Ans6 :-Yes, we can create a nested dictionary in Python. A nested dictionary is a dictionary that contains another dictionary as its value. Here is an example of a simple one-level nested dictionary:"
   ]
  },
  {
   "cell_type": "code",
   "execution_count": 13,
   "id": "ee524703-1bab-427d-92a7-1e609503e4f7",
   "metadata": {},
   "outputs": [],
   "source": [
    "my_dic={'leo':{'messi':10,'iniesta':8}}"
   ]
  },
  {
   "cell_type": "code",
   "execution_count": 14,
   "id": "4cc31fae-4c72-4b26-bd06-7b62473ef8aa",
   "metadata": {},
   "outputs": [
    {
     "data": {
      "text/plain": [
       "{'leo': {'messi': 10, 'iniesta': 8}}"
      ]
     },
     "execution_count": 14,
     "metadata": {},
     "output_type": "execute_result"
    }
   ],
   "source": [
    "my_dic"
   ]
  },
  {
   "cell_type": "markdown",
   "id": "e66e85ad-bc0f-4597-8414-2fd6e7dbcb92",
   "metadata": {},
   "source": [
    "In this example, the outer dictionary has only one key \"leo\", which maps to an inner dictionary. The inner dictionary \n",
    "contains two keys \"messi\" and \"iniesta\", and their corresponding values 10 and 8, respectively.\n"
   ]
  },
  {
   "cell_type": "code",
   "execution_count": null,
   "id": "dc6f9070-ca3a-44bc-9a0c-75075a5241c7",
   "metadata": {},
   "outputs": [],
   "source": []
  },
  {
   "cell_type": "markdown",
   "id": "d0be39ce-37f3-4917-9243-d4d09e08f31c",
   "metadata": {},
   "source": [
    "Ans7 :-"
   ]
  },
  {
   "cell_type": "code",
   "execution_count": 16,
   "id": "264fc419-2cf9-41b1-8e2f-c5fadc1bcd72",
   "metadata": {},
   "outputs": [],
   "source": [
    "dict1 = {'language' : 'Python', 'course': 'Data Science Masters'}"
   ]
  },
  {
   "cell_type": "code",
   "execution_count": 22,
   "id": "eb167f76-a002-4578-bd24-d0377f2f6047",
   "metadata": {},
   "outputs": [
    {
     "name": "stdout",
     "output_type": "stream",
     "text": [
      "{'language': 'Python', 'course': 'Data Science Masters', 'topics': ['Python', 'Machine Learning', 'Deep Learning']}\n"
     ]
    }
   ],
   "source": [
    "dict1.setdefault(\"topics\", ['Python', 'Machine Learning', 'Deep Learning'])\n",
    "print(dict1)"
   ]
  },
  {
   "cell_type": "code",
   "execution_count": null,
   "id": "51d5e661-42d4-4f92-b477-fd260352e2c2",
   "metadata": {},
   "outputs": [],
   "source": []
  },
  {
   "cell_type": "markdown",
   "id": "d099e339-193d-4850-9aee-6a7ce1c818af",
   "metadata": {},
   "source": [
    "Ans8 :- The main view objects of dictionary in python are keys, values and items."
   ]
  },
  {
   "cell_type": "markdown",
   "id": "07c7f815-0209-48b7-86e2-322d68a13713",
   "metadata": {},
   "source": [
    "* keys"
   ]
  },
  {
   "cell_type": "code",
   "execution_count": 24,
   "id": "a7c9db4d-d9f4-4008-a9eb-7d61dbcfebad",
   "metadata": {},
   "outputs": [],
   "source": [
    "dict1 = {'Sport': 'Cricket' , 'Teams': ['India', 'Australia', 'England', 'South Africa', 'Sri Lanka', 'New Zealand']}"
   ]
  },
  {
   "cell_type": "code",
   "execution_count": 25,
   "id": "d3adc923-e956-4b1d-a61a-3d1cb0db3f4b",
   "metadata": {},
   "outputs": [
    {
     "data": {
      "text/plain": [
       "dict_keys(['Sport', 'Teams'])"
      ]
     },
     "execution_count": 25,
     "metadata": {},
     "output_type": "execute_result"
    }
   ],
   "source": [
    "dict1.keys()"
   ]
  },
  {
   "cell_type": "markdown",
   "id": "abfa9659-2cf4-4984-99a3-c14cdff0ea81",
   "metadata": {},
   "source": [
    "* values"
   ]
  },
  {
   "cell_type": "code",
   "execution_count": 27,
   "id": "0a5c0d3b-6af4-46a6-90ef-92bafe4f3ddf",
   "metadata": {},
   "outputs": [],
   "source": [
    "dict1 = {'Sport': 'Cricket' , 'Teams': ['India', 'Australia', 'England', 'South Africa', 'Sri Lanka', 'New Zealand']}"
   ]
  },
  {
   "cell_type": "code",
   "execution_count": 28,
   "id": "ad86a82e-f9b8-4991-8b16-2be57cf67924",
   "metadata": {},
   "outputs": [
    {
     "data": {
      "text/plain": [
       "dict_values(['Cricket', ['India', 'Australia', 'England', 'South Africa', 'Sri Lanka', 'New Zealand']])"
      ]
     },
     "execution_count": 28,
     "metadata": {},
     "output_type": "execute_result"
    }
   ],
   "source": [
    "dict1.values()"
   ]
  },
  {
   "cell_type": "markdown",
   "id": "6ff4e264-6357-45e2-a3fa-e497f6679a0a",
   "metadata": {},
   "source": [
    "* items"
   ]
  },
  {
   "cell_type": "code",
   "execution_count": 29,
   "id": "dffc1dcd-76f1-44a2-a23f-bb84cc1b2d1c",
   "metadata": {},
   "outputs": [],
   "source": [
    "dict1 = {'Sport': 'Cricket' , 'Teams': ['India', 'Australia', 'England', 'South Africa', 'Sri Lanka', 'New Zealand']}"
   ]
  },
  {
   "cell_type": "code",
   "execution_count": 30,
   "id": "3262bd9d-588c-41b2-8649-a8e2d7ca0c7f",
   "metadata": {},
   "outputs": [
    {
     "data": {
      "text/plain": [
       "dict_items([('Sport', 'Cricket'), ('Teams', ['India', 'Australia', 'England', 'South Africa', 'Sri Lanka', 'New Zealand'])])"
      ]
     },
     "execution_count": 30,
     "metadata": {},
     "output_type": "execute_result"
    }
   ],
   "source": [
    "dict1.items()"
   ]
  },
  {
   "cell_type": "code",
   "execution_count": null,
   "id": "93d68368-e917-4080-b76f-8d7d2c683694",
   "metadata": {},
   "outputs": [],
   "source": []
  }
 ],
 "metadata": {
  "kernelspec": {
   "display_name": "Python 3 (ipykernel)",
   "language": "python",
   "name": "python3"
  },
  "language_info": {
   "codemirror_mode": {
    "name": "ipython",
    "version": 3
   },
   "file_extension": ".py",
   "mimetype": "text/x-python",
   "name": "python",
   "nbconvert_exporter": "python",
   "pygments_lexer": "ipython3",
   "version": "3.10.8"
  }
 },
 "nbformat": 4,
 "nbformat_minor": 5
}
