{
 "cells": [
  {
   "cell_type": "code",
   "execution_count": 11,
   "id": "7b291cfe-e164-4cb8-b4ea-d99129f332d2",
   "metadata": {},
   "outputs": [],
   "source": [
    "# Ans1 :-\n",
    "import re\n",
    "def check_pass(password:str)->str:\n",
    "    if len(password)<10:\n",
    "        return 'Invalid password'\n",
    "    if not re.search(r'[a-z].*[a-z]',password):\n",
    "                     return 'Invalid password'\n",
    "    if not re.search(r'[A-Z].*[A-Z]',password):\n",
    "                     return 'Invalid password'\n",
    "    if not re.search(r'(\\d)',password):\n",
    "                     return 'Inavalid password'\n",
    "    if len(re.findall(r'[^a-zA-Z\\d\\s]',password)) < 3:\n",
    "        return 'Invalid password'\n",
    "    \n",
    "    return 'Valid password'"
   ]
  },
  {
   "cell_type": "code",
   "execution_count": 12,
   "id": "2310794d-704a-4abf-9862-9f816552bb2e",
   "metadata": {},
   "outputs": [
    {
     "data": {
      "text/plain": [
       "'Valid password'"
      ]
     },
     "execution_count": 12,
     "metadata": {},
     "output_type": "execute_result"
    }
   ],
   "source": [
    "check_pass('AYUshj10@#$')"
   ]
  },
  {
   "cell_type": "code",
   "execution_count": 13,
   "id": "5a7c2d35-5b8b-4be5-ab00-d9709575d17b",
   "metadata": {},
   "outputs": [],
   "source": [
    "# Ans 2"
   ]
  },
  {
   "cell_type": "code",
   "execution_count": 15,
   "id": "afb6d136-83d7-4364-af04-8c0fbbcfb5bf",
   "metadata": {},
   "outputs": [],
   "source": [
    "# Check if the string starts with a particular letter."
   ]
  },
  {
   "cell_type": "code",
   "execution_count": 16,
   "id": "a5847154-0001-4cb8-b807-ebbcae89143b",
   "metadata": {},
   "outputs": [
    {
     "name": "stdout",
     "output_type": "stream",
     "text": [
      "['Apple', 'Almond']\n"
     ]
    }
   ],
   "source": [
    "words = [\"Apple\", \"Banana\", \"Almond\", \"Date\"]\n",
    "letter = \"A\"\n",
    "\n",
    "filtered_words = filter(lambda x: x[0] == letter, words)\n",
    "print(list(filtered_words)) "
   ]
  },
  {
   "cell_type": "code",
   "execution_count": 17,
   "id": "85887fe2-4760-4e0b-9ff5-f62bed83cb57",
   "metadata": {},
   "outputs": [],
   "source": [
    "# Check if the string is numeric."
   ]
  },
  {
   "cell_type": "code",
   "execution_count": 18,
   "id": "34eeb017-284e-4e1a-8272-e2f623bb3c19",
   "metadata": {},
   "outputs": [
    {
     "name": "stdout",
     "output_type": "stream",
     "text": [
      "['123', '456']\n"
     ]
    }
   ],
   "source": [
    "strings = [\"123\", \"abc\", \"456\", \"def\"]\n",
    "filtered_strings = filter(lambda x: x.isnumeric(), strings)\n",
    "print(list(filtered_strings)) "
   ]
  },
  {
   "cell_type": "code",
   "execution_count": 19,
   "id": "29b63ea6-3fd0-4131-a6eb-774e3ff9296c",
   "metadata": {},
   "outputs": [],
   "source": [
    "# Sort a list of tuples having fruit names and their quantity. [(\"mango\",99),(\"orange\",80), (\"grapes\", 1000)."
   ]
  },
  {
   "cell_type": "code",
   "execution_count": 2,
   "id": "c8e91c8d-e78d-4fff-b5ed-b4076b09dd54",
   "metadata": {},
   "outputs": [
    {
     "name": "stdout",
     "output_type": "stream",
     "text": [
      "[('orange', 80), ('mango', 99), ('grapes', 1000)]\n"
     ]
    }
   ],
   "source": [
    "fruits = [(\"mango\",99),(\"orange\",80), (\"grapes\", 1000)]\n",
    "sorte=sorted(fruits,key=lambda x:x[1])\n",
    "print(sorte)"
   ]
  },
  {
   "cell_type": "code",
   "execution_count": 6,
   "id": "cead57d1-da76-48ac-823b-a0b5360760ae",
   "metadata": {},
   "outputs": [],
   "source": [
    "# Find the squares of numbers from 1 to 10."
   ]
  },
  {
   "cell_type": "code",
   "execution_count": 11,
   "id": "17706941-8942-4fd0-ad27-36aa9851a460",
   "metadata": {},
   "outputs": [],
   "source": [
    "l=range(1,11)"
   ]
  },
  {
   "cell_type": "code",
   "execution_count": 12,
   "id": "91c60bbb-3a42-48e4-8eb9-e1f41b669de1",
   "metadata": {},
   "outputs": [
    {
     "data": {
      "text/plain": [
       "[1, 4, 9, 16, 25, 36, 49, 64, 81, 100]"
      ]
     },
     "execution_count": 12,
     "metadata": {},
     "output_type": "execute_result"
    }
   ],
   "source": [
    "list(map(lambda x:x*x,l))"
   ]
  },
  {
   "cell_type": "code",
   "execution_count": 13,
   "id": "08b26671-d045-40b0-b102-96e347020961",
   "metadata": {},
   "outputs": [],
   "source": [
    "# Find the cube root of numbers from 1 to 10."
   ]
  },
  {
   "cell_type": "code",
   "execution_count": 14,
   "id": "67577711-58c8-417e-9731-7a47c21b4a4e",
   "metadata": {},
   "outputs": [],
   "source": [
    "l1=range(1,11)"
   ]
  },
  {
   "cell_type": "code",
   "execution_count": 18,
   "id": "e7e19d9f-1a6a-4e3c-bcde-a443402c31f0",
   "metadata": {},
   "outputs": [
    {
     "data": {
      "text/plain": [
       "[1.0,\n",
       " 1.2599210498948732,\n",
       " 1.4422495703074083,\n",
       " 1.5874010519681994,\n",
       " 1.7099759466766968,\n",
       " 1.8171205928321397,\n",
       " 1.912931182772389,\n",
       " 2.0,\n",
       " 2.080083823051904,\n",
       " 2.154434690031884]"
      ]
     },
     "execution_count": 18,
     "metadata": {},
     "output_type": "execute_result"
    }
   ],
   "source": [
    "list(map(lambda x:x**(1/3),l1))"
   ]
  },
  {
   "cell_type": "code",
   "execution_count": 19,
   "id": "6313198c-a95e-44b6-8b1d-82ccfe2ac943",
   "metadata": {},
   "outputs": [],
   "source": [
    "# Check if a given number is even."
   ]
  },
  {
   "cell_type": "code",
   "execution_count": 25,
   "id": "95b15d1d-8ec0-4883-9a88-600e5abf889f",
   "metadata": {},
   "outputs": [],
   "source": [
    "l3= range(10)"
   ]
  },
  {
   "cell_type": "code",
   "execution_count": 26,
   "id": "753723f5-631b-4069-b50b-32bdd7d2afaf",
   "metadata": {},
   "outputs": [
    {
     "data": {
      "text/plain": [
       "[0, 2, 4, 6, 8]"
      ]
     },
     "execution_count": 26,
     "metadata": {},
     "output_type": "execute_result"
    }
   ],
   "source": [
    "list(filter(lambda x:x%2==0,l3))"
   ]
  },
  {
   "cell_type": "code",
   "execution_count": 28,
   "id": "6c4b80a1-4e82-4e44-942c-a1467568251b",
   "metadata": {},
   "outputs": [],
   "source": [
    "# Filter odd numbers from the given list. [1,2,3,4,5,6,7,8,9,10]"
   ]
  },
  {
   "cell_type": "code",
   "execution_count": 29,
   "id": "d959370a-30af-491b-996f-20b3f7c07a64",
   "metadata": {},
   "outputs": [],
   "source": [
    "l4=[1,2,3,4,5,6,7,8,9,10]"
   ]
  },
  {
   "cell_type": "code",
   "execution_count": 30,
   "id": "df8166a7-51fe-4146-80bc-a3040a2346c0",
   "metadata": {},
   "outputs": [
    {
     "data": {
      "text/plain": [
       "[1, 3, 5, 7, 9]"
      ]
     },
     "execution_count": 30,
     "metadata": {},
     "output_type": "execute_result"
    }
   ],
   "source": [
    "list(filter(lambda x:x%2!=0,l4))"
   ]
  },
  {
   "cell_type": "code",
   "execution_count": 31,
   "id": "6e1d8acc-c598-45c2-bfec-4815316345da",
   "metadata": {},
   "outputs": [],
   "source": [
    "# Sort a list of integers into positive and negative integers lists. [1,2,3,4,5,6,-1,-2,-3,-4,-5,0]"
   ]
  },
  {
   "cell_type": "code",
   "execution_count": 38,
   "id": "a46e3492-fe26-4181-ad8f-4d4885d7685b",
   "metadata": {},
   "outputs": [
    {
     "name": "stdout",
     "output_type": "stream",
     "text": [
      "[1, 2, 3, 4, 5, 6]\n",
      "[-1, -2, -3, -4, -5]\n"
     ]
    }
   ],
   "source": [
    "l5=[1,2,3,4,5,6,-1,-2,-3,-4,-5,0]\n",
    "positive=list(filter(lambda x:x>0,l5))\n",
    "negative=list(filter(lambda x:x<0,l5))\n",
    "print(positive)\n",
    "print(negative)"
   ]
  },
  {
   "cell_type": "code",
   "execution_count": null,
   "id": "80275022-48f8-48a3-93c9-244a1fce798a",
   "metadata": {},
   "outputs": [],
   "source": []
  }
 ],
 "metadata": {
  "kernelspec": {
   "display_name": "Python 3 (ipykernel)",
   "language": "python",
   "name": "python3"
  },
  "language_info": {
   "codemirror_mode": {
    "name": "ipython",
    "version": 3
   },
   "file_extension": ".py",
   "mimetype": "text/x-python",
   "name": "python",
   "nbconvert_exporter": "python",
   "pygments_lexer": "ipython3",
   "version": "3.10.8"
  }
 },
 "nbformat": 4,
 "nbformat_minor": 5
}
