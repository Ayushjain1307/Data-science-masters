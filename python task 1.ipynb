{
 "cells": [
  {
   "cell_type": "markdown",
   "id": "29946e69-5ae4-410a-89f5-ff45d2d47773",
   "metadata": {},
   "source": [
    "ans1 :-"
   ]
  },
  {
   "cell_type": "code",
   "execution_count": 10,
   "id": "f935b88d-c865-4f3c-8d2b-b4f02c1caa3c",
   "metadata": {},
   "outputs": [
    {
     "name": "stdout",
     "output_type": "stream",
     "text": [
      "Product of all numbers: 1033677959746771369708460310528000\n"
     ]
    }
   ],
   "source": [
    "from collections.abc import Iterable\n",
    "from functools import reduce\n",
    "import operator\n",
    "\n",
    "def get_product_of_numbers(lst):\n",
    "    flat_list = []\n",
    "\n",
    "    def extract_numbers(item):\n",
    "        if isinstance(item, (int, float)):\n",
    "            flat_list.append(item)\n",
    "        elif isinstance(item, dict):\n",
    "            for value in item.values():\n",
    "                extract_numbers(value)\n",
    "        elif isinstance(item, Iterable) and not isinstance(item, str):\n",
    "            for element in item:\n",
    "                extract_numbers(element)\n",
    "\n",
    "    for element in lst:\n",
    "        extract_numbers(element)\n",
    "\n",
    "    filtered_list = [num for num in flat_list if not isinstance(num, bool)]\n",
    "    product = reduce(operator.mul, filtered_list, 1)\n",
    "    return product\n",
    "\n",
    "\n",
    "list1 = [1, 2, 3, 4, [44, 55, 66, True], False, (34, 56, 78, 89, 34), {1, 2, 3, 3, 2, 1},\n",
    "         {1: 34, \"key2\": [55, 67, 78, 89], 4: (45, 22, 61, 34)}, [56, 'data science'], 'Machine Learning']\n",
    "\n",
    "result = get_product_of_numbers(list1)\n",
    "print(\"Product of all numbers:\", result)\n"
   ]
  },
  {
   "cell_type": "code",
   "execution_count": null,
   "id": "01d8c955-1d27-4dc7-94ce-94ecd2f005bb",
   "metadata": {},
   "outputs": [],
   "source": []
  },
  {
   "cell_type": "markdown",
   "id": "80d32607-d9d5-4275-b381-5be3373ed0c0",
   "metadata": {},
   "source": [
    "ans 2 :-"
   ]
  },
  {
   "cell_type": "code",
   "execution_count": 8,
   "id": "f698e143-d3d1-4f7c-8b90-f221efd957fd",
   "metadata": {},
   "outputs": [],
   "source": [
    "def encrypted_msg(message):\n",
    "    decode_msg=''\n",
    "    for i in message:\n",
    "        if i.isalpha():\n",
    "            if i.islower:\n",
    "                encryption= chr(ord('a')+(ord('z')-ord(i)))\n",
    "            else:\n",
    "                encyption=chr(ord('A')+(ord('Z')-ord(i)))\n",
    "        elif i==' ':\n",
    "            encryption='$'\n",
    "        else:\n",
    "            encyption=i\n",
    "        decode_msg+=encryption\n",
    "    return decode_msg.lower()   \n",
    " "
   ]
  },
  {
   "cell_type": "code",
   "execution_count": 9,
   "id": "fd8c995d-4659-4e58-91ab-0d6b7be16256",
   "metadata": {},
   "outputs": [
    {
     "name": "stdout",
     "output_type": "stream",
     "text": [
      "r$dzmg$gl$yvxlnv$z$wzgz$hxrvmgrhg\n"
     ]
    }
   ],
   "source": [
    "input_sentence = \"I want to become a Data Scientist\"\n",
    "decode = encrypted_msg(input_sentence.lower())\n",
    "print(decode)"
   ]
  },
  {
   "cell_type": "code",
   "execution_count": null,
   "id": "96f26c1c-dc47-4763-a65f-658af1d14098",
   "metadata": {},
   "outputs": [],
   "source": []
  },
  {
   "cell_type": "code",
   "execution_count": null,
   "id": "14141443-4855-45ea-91e2-72a83f05dfeb",
   "metadata": {},
   "outputs": [],
   "source": []
  },
  {
   "cell_type": "code",
   "execution_count": null,
   "id": "2e4f8438-3f9a-4c59-b4f7-d81d4d81015f",
   "metadata": {},
   "outputs": [],
   "source": [
    "\n",
    "\n"
   ]
  },
  {
   "cell_type": "code",
   "execution_count": null,
   "id": "43db879c-c427-4fc4-b505-579e811b7c36",
   "metadata": {},
   "outputs": [],
   "source": []
  },
  {
   "cell_type": "code",
   "execution_count": null,
   "id": "47687a96-7797-4cf4-8608-f59d93266cf8",
   "metadata": {},
   "outputs": [],
   "source": []
  },
  {
   "cell_type": "code",
   "execution_count": null,
   "id": "ed940e80-ce6a-42d6-86a9-a7f87522e282",
   "metadata": {},
   "outputs": [],
   "source": []
  },
  {
   "cell_type": "code",
   "execution_count": null,
   "id": "979b2a9c-67bd-4c63-8b79-9a76806cf988",
   "metadata": {},
   "outputs": [],
   "source": [
    "\n"
   ]
  },
  {
   "cell_type": "code",
   "execution_count": null,
   "id": "ceb8427a-a64b-42b2-a3d7-ca949fe1fa4d",
   "metadata": {},
   "outputs": [],
   "source": []
  }
 ],
 "metadata": {
  "kernelspec": {
   "display_name": "Python 3 (ipykernel)",
   "language": "python",
   "name": "python3"
  },
  "language_info": {
   "codemirror_mode": {
    "name": "ipython",
    "version": 3
   },
   "file_extension": ".py",
   "mimetype": "text/x-python",
   "name": "python",
   "nbconvert_exporter": "python",
   "pygments_lexer": "ipython3",
   "version": "3.10.8"
  }
 },
 "nbformat": 4,
 "nbformat_minor": 5
}
