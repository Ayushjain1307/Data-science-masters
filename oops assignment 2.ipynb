{
 "cells": [
  {
   "cell_type": "markdown",
   "id": "d8179454-6a34-4b66-a5d7-ac0794666706",
   "metadata": {},
   "source": [
    "Q1, Create a vehicle class with an init method having instance variables as name_of_vehicle, max_speed\n",
    "and average_of_vehicle."
   ]
  },
  {
   "cell_type": "code",
   "execution_count": 5,
   "id": "431857d6-691f-481c-9e83-8b9f2d0a5212",
   "metadata": {},
   "outputs": [],
   "source": [
    "class vehicle:\n",
    "    def __init__(self,name_of_vehicle,max_speed,average_of_vehicle):\n",
    "        self.name_of_vehicle=name_of_vehicle\n",
    "        self.max_speed=max_speed\n",
    "        self.average_of_vehicle=average_of_vehicle"
   ]
  },
  {
   "cell_type": "code",
   "execution_count": 6,
   "id": "efe929de-4678-44f7-9c7b-9766c4b34159",
   "metadata": {},
   "outputs": [],
   "source": [
    "bike=vehicle('shine sp','120 km/hr',60)"
   ]
  },
  {
   "cell_type": "code",
   "execution_count": 8,
   "id": "e428b136-38d4-4b1c-a757-0271ae5723a4",
   "metadata": {},
   "outputs": [
    {
     "data": {
      "text/plain": [
       "'shine sp'"
      ]
     },
     "execution_count": 8,
     "metadata": {},
     "output_type": "execute_result"
    }
   ],
   "source": [
    "bike.name_of_vehicle"
   ]
  },
  {
   "cell_type": "markdown",
   "id": "bd2d2e0b-d59f-424b-a596-9651c8cca597",
   "metadata": {},
   "source": [
    "Q2. Create a child class car from the vehicle class created in Que 1, which will inherit the vehicle class.\n",
    "Create a method named seating_capacity which takes capacity as an argument and returns the name of\n",
    "the vehicle and its seating capacity."
   ]
  },
  {
   "cell_type": "code",
   "execution_count": 13,
   "id": "84492e07-39c6-45b3-87ca-a75f6888a573",
   "metadata": {},
   "outputs": [],
   "source": [
    "class car(vehicle):\n",
    "    def seating_capactity(self,capacity):\n",
    "        self.seating_capacity=capacity\n",
    "        return self.name_of_vehicle,self.seating_capacity"
   ]
  },
  {
   "cell_type": "code",
   "execution_count": 14,
   "id": "b2839e5d-24e1-4bc5-a3df-6eb6e2a9b824",
   "metadata": {},
   "outputs": [],
   "source": [
    "obj_car=car('hyundai i10','150 km/hr',20)"
   ]
  },
  {
   "cell_type": "code",
   "execution_count": 15,
   "id": "ea339a03-c68a-4231-8347-8ea3e706b246",
   "metadata": {},
   "outputs": [
    {
     "data": {
      "text/plain": [
       "('hyundai i10', 4)"
      ]
     },
     "execution_count": 15,
     "metadata": {},
     "output_type": "execute_result"
    }
   ],
   "source": [
    "obj_car.seating_capactity(4)"
   ]
  },
  {
   "cell_type": "markdown",
   "id": "165afce9-4d8f-43d4-81a6-1e69213a51da",
   "metadata": {},
   "source": [
    "Q3. What is multiple inheritance? Write a python code to demonstrate multiple inheritance."
   ]
  },
  {
   "cell_type": "markdown",
   "id": "7a1c91d3-5ffc-4d8c-bc31-6586b3913fbe",
   "metadata": {},
   "source": [
    "Multiple inheritance is a feature in object-oriented programming languages that allows a class to inherit attributes and methods from more than one parent class. In Python, you can create a class that inherits from multiple parent classes by listing them within parentheses after the class name."
   ]
  },
  {
   "cell_type": "markdown",
   "id": "db2ce076-0715-4079-b36e-7a5b4c9998f0",
   "metadata": {},
   "source": [
    "Here's an example code demonstrating multiple inheritance"
   ]
  },
  {
   "cell_type": "code",
   "execution_count": 14,
   "id": "1e338c83-c306-4339-815d-9df0bc987b63",
   "metadata": {},
   "outputs": [],
   "source": [
    "class club_football:\n",
    "    def Barcelona(self):\n",
    "        print('Messi is goat in club football')"
   ]
  },
  {
   "cell_type": "code",
   "execution_count": 15,
   "id": "8f9045bb-97ec-4298-a3e3-9e10a59117d6",
   "metadata": {},
   "outputs": [],
   "source": [
    "class int_football:\n",
    "    def Argentina(self):\n",
    "        print('Messi is goat in international football')"
   ]
  },
  {
   "cell_type": "code",
   "execution_count": 16,
   "id": "eace86c4-c126-4ef2-bbfe-18cbe172e1e4",
   "metadata": {},
   "outputs": [],
   "source": [
    "class football(club_football,int_football):\n",
    "    def both(self):\n",
    "        print('Messi is greatest')"
   ]
  },
  {
   "cell_type": "code",
   "execution_count": 17,
   "id": "c06b55b5-340b-48a9-8068-c39930266160",
   "metadata": {},
   "outputs": [],
   "source": [
    "m10=football()"
   ]
  },
  {
   "cell_type": "code",
   "execution_count": 18,
   "id": "cdd31dc0-d38f-413a-9495-234eea9899a6",
   "metadata": {},
   "outputs": [
    {
     "name": "stdout",
     "output_type": "stream",
     "text": [
      "Messi is goat in international football\n"
     ]
    }
   ],
   "source": [
    "m10.Argentina()"
   ]
  },
  {
   "cell_type": "code",
   "execution_count": 20,
   "id": "c151f7b2-8606-4d0e-a898-128f1907598c",
   "metadata": {},
   "outputs": [
    {
     "name": "stdout",
     "output_type": "stream",
     "text": [
      "Messi is goat in club football\n"
     ]
    }
   ],
   "source": [
    "m10.Barcelona()"
   ]
  },
  {
   "cell_type": "code",
   "execution_count": 21,
   "id": "de8341a3-a253-406b-933e-0cf0642c4e0e",
   "metadata": {},
   "outputs": [
    {
     "name": "stdout",
     "output_type": "stream",
     "text": [
      "Messi is greatest\n"
     ]
    }
   ],
   "source": [
    "m10.both()"
   ]
  },
  {
   "cell_type": "markdown",
   "id": "209d1a74-d4fa-4d01-8784-7f36c1efe2a4",
   "metadata": {},
   "source": [
    "Q4. What are getter and setter in python? Create a class and create a getter and a setter method in this\n",
    "class."
   ]
  },
  {
   "cell_type": "markdown",
   "id": "6807d911-92be-4492-a087-b9013644a7aa",
   "metadata": {},
   "source": [
    "In Python, getter and setter methods are used to control the access and modification of class attributes. They provide an interface to retrieve (getter) or modify (setter) the values of private or protected attributes. By using getter and setter methods, you can enforce encapsulation and add additional logic or validation when accessing or modifying attributes."
   ]
  },
  {
   "cell_type": "markdown",
   "id": "5c46fae3-89ec-4889-a27b-57c93241f677",
   "metadata": {},
   "source": [
    "Here's an example of a class with a getter and a setter method in Python:"
   ]
  },
  {
   "cell_type": "code",
   "execution_count": 28,
   "id": "707f20c0-44bd-4117-a16d-c8ddacb1b2b0",
   "metadata": {},
   "outputs": [],
   "source": [
    "class student:\n",
    "    def __init__(self,age,name):\n",
    "        self.age=age\n",
    "        self.name=name\n",
    "    def get_name(self):\n",
    "        return self.name\n",
    "    def set_age(self):\n",
    "        if self.age >=10:\n",
    "            return self.age\n",
    "        else:\n",
    "            print('you are too small')\n",
    "    "
   ]
  },
  {
   "cell_type": "code",
   "execution_count": 29,
   "id": "43954a94-5653-4a40-a09a-b275b3a2357e",
   "metadata": {},
   "outputs": [],
   "source": [
    "leo=student(15,'lionel')"
   ]
  },
  {
   "cell_type": "code",
   "execution_count": 30,
   "id": "c829597a-cf08-478d-aab6-1a99bb4b98ee",
   "metadata": {},
   "outputs": [
    {
     "data": {
      "text/plain": [
       "'lionel'"
      ]
     },
     "execution_count": 30,
     "metadata": {},
     "output_type": "execute_result"
    }
   ],
   "source": [
    "leo.get_name()"
   ]
  },
  {
   "cell_type": "code",
   "execution_count": 31,
   "id": "1451181d-e32d-4480-bd8e-fc797a194c4a",
   "metadata": {},
   "outputs": [
    {
     "data": {
      "text/plain": [
       "15"
      ]
     },
     "execution_count": 31,
     "metadata": {},
     "output_type": "execute_result"
    }
   ],
   "source": [
    "leo.set_age()"
   ]
  },
  {
   "cell_type": "code",
   "execution_count": 32,
   "id": "7a40b94d-a963-4eec-a2ae-a1680b2b0bae",
   "metadata": {},
   "outputs": [],
   "source": [
    "thiago=student(9,'thiagoo')"
   ]
  },
  {
   "cell_type": "code",
   "execution_count": 33,
   "id": "74dfcf95-8b67-4d33-9219-d09cb2251113",
   "metadata": {},
   "outputs": [
    {
     "data": {
      "text/plain": [
       "'thiagoo'"
      ]
     },
     "execution_count": 33,
     "metadata": {},
     "output_type": "execute_result"
    }
   ],
   "source": [
    "thiago.get_name()"
   ]
  },
  {
   "cell_type": "code",
   "execution_count": 34,
   "id": "f2d4fa86-c1b6-40cd-a184-19011ff8e2a4",
   "metadata": {},
   "outputs": [
    {
     "name": "stdout",
     "output_type": "stream",
     "text": [
      "you are too small\n"
     ]
    }
   ],
   "source": [
    "thiago.set_age()"
   ]
  },
  {
   "cell_type": "code",
   "execution_count": null,
   "id": "cafa34ea-967c-4af4-93e0-a9b11e690d2b",
   "metadata": {},
   "outputs": [],
   "source": []
  },
  {
   "cell_type": "markdown",
   "id": "defd0a12-b91d-4ae6-8eac-f56be3e982f4",
   "metadata": {},
   "source": [
    "Q5.What is method overriding in python? Write a python code to demonstrate method overriding."
   ]
  },
  {
   "cell_type": "markdown",
   "id": "618da31d-e6f0-4ec9-9e3c-b2c39f9c4ea4",
   "metadata": {},
   "source": [
    "Method overriding is a feature in object-oriented programming that allows a subclass to provide a different implementation of a method that is already defined in its superclass. This enables the subclass to inherit the methods and attributes of the superclass while providing its own implementation for specific behavior.\n",
    "\n",
    "To demonstrate method overriding in Python, consider a class hierarchy with a superclass called millionaire and a subclass called elon_musk . Both classes have a method called routine(), but the elon_musk class overrides the routine() method with its own implementation.\n",
    "\n",
    "Here's an example code that demonstrates method overriding:"
   ]
  },
  {
   "cell_type": "code",
   "execution_count": 2,
   "id": "2d4f54b7-33c4-4b15-b870-b5232b6f53e7",
   "metadata": {},
   "outputs": [],
   "source": [
    "class millionaire:\n",
    "    def routine(self):\n",
    "        return 'wakes up early'"
   ]
  },
  {
   "cell_type": "code",
   "execution_count": 3,
   "id": "2e10d999-0c42-4b6d-9cd5-1aa848d78a3d",
   "metadata": {},
   "outputs": [],
   "source": [
    "class elon_musk(millionaire):\n",
    "    def routine(self):\n",
    "        return 'work till you acomplish'"
   ]
  },
  {
   "cell_type": "code",
   "execution_count": 4,
   "id": "5815e15d-1d14-48ce-bf9a-19df518090e7",
   "metadata": {},
   "outputs": [],
   "source": [
    "a1=millionaire()"
   ]
  },
  {
   "cell_type": "code",
   "execution_count": 5,
   "id": "67ab5166-d53f-4d16-abab-377294b26ce2",
   "metadata": {},
   "outputs": [],
   "source": [
    "b1=elon_musk()"
   ]
  },
  {
   "cell_type": "code",
   "execution_count": 7,
   "id": "267076d6-0dbc-4e6d-a4db-0c98ad3126d9",
   "metadata": {},
   "outputs": [
    {
     "data": {
      "text/plain": [
       "'wakes up early'"
      ]
     },
     "execution_count": 7,
     "metadata": {},
     "output_type": "execute_result"
    }
   ],
   "source": [
    "a1.routine()"
   ]
  },
  {
   "cell_type": "code",
   "execution_count": 10,
   "id": "c5ffd25e-bf86-40c9-b504-b76026d76157",
   "metadata": {},
   "outputs": [
    {
     "data": {
      "text/plain": [
       "'work till you acomplish'"
      ]
     },
     "execution_count": 10,
     "metadata": {},
     "output_type": "execute_result"
    }
   ],
   "source": [
    "b1.routine()"
   ]
  },
  {
   "cell_type": "code",
   "execution_count": null,
   "id": "cbd131bf-fd80-44d9-898c-ee778c74f6f7",
   "metadata": {},
   "outputs": [],
   "source": []
  }
 ],
 "metadata": {
  "kernelspec": {
   "display_name": "Python 3 (ipykernel)",
   "language": "python",
   "name": "python3"
  },
  "language_info": {
   "codemirror_mode": {
    "name": "ipython",
    "version": 3
   },
   "file_extension": ".py",
   "mimetype": "text/x-python",
   "name": "python",
   "nbconvert_exporter": "python",
   "pygments_lexer": "ipython3",
   "version": "3.10.8"
  }
 },
 "nbformat": 4,
 "nbformat_minor": 5
}
