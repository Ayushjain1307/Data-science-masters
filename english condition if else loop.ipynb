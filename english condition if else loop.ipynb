{
 "cells": [
  {
   "cell_type": "code",
   "execution_count": 1,
   "id": "9afe0d88-6ca5-45e9-b17b-0965b5ea30ae",
   "metadata": {},
   "outputs": [],
   "source": [
    "a=10"
   ]
  },
  {
   "cell_type": "code",
   "execution_count": 5,
   "id": "a92fe9db-ed60-4957-8cfb-c4a8fca259ee",
   "metadata": {},
   "outputs": [
    {
     "data": {
      "text/plain": [
       "int"
      ]
     },
     "execution_count": 5,
     "metadata": {},
     "output_type": "execute_result"
    }
   ],
   "source": [
    "type(a)"
   ]
  },
  {
   "cell_type": "code",
   "execution_count": 6,
   "id": "1d77ba93-09ce-4c5f-a5d7-cbf14fcbb7d8",
   "metadata": {},
   "outputs": [
    {
     "data": {
      "text/plain": [
       "123"
      ]
     },
     "execution_count": 6,
     "metadata": {},
     "output_type": "execute_result"
    }
   ],
   "source": [
    "int(123)"
   ]
  },
  {
   "cell_type": "code",
   "execution_count": 7,
   "id": "8f1783e0-3e02-49f9-a2c0-d47808df7025",
   "metadata": {},
   "outputs": [
    {
     "name": "stdout",
     "output_type": "stream",
     "text": [
      "hello world\n"
     ]
    }
   ],
   "source": [
    "print('hello world')"
   ]
  },
  {
   "cell_type": "code",
   "execution_count": 8,
   "id": "04f290ee-d462-4219-8562-3f833c7c1870",
   "metadata": {},
   "outputs": [
    {
     "name": "stdout",
     "output_type": "stream",
     "text": [
      "123\n"
     ]
    }
   ],
   "source": [
    "print(123)"
   ]
  },
  {
   "cell_type": "code",
   "execution_count": 10,
   "id": "c20a9c1a-7d18-439a-aa0a-25590a06585f",
   "metadata": {},
   "outputs": [
    {
     "name": "stdout",
     "output_type": "stream",
     "text": [
      "my age is: 25\n"
     ]
    }
   ],
   "source": [
    "age=25\n",
    "print('my age is:',age)"
   ]
  },
  {
   "cell_type": "code",
   "execution_count": 13,
   "id": "3a4b885e-5fc9-43b4-aeb0-f574d80998b3",
   "metadata": {},
   "outputs": [
    {
     "name": "stdout",
     "output_type": "stream",
     "text": [
      "my age is:25\n"
     ]
    }
   ],
   "source": [
    "print(f'my age is:{age}')"
   ]
  },
  {
   "cell_type": "code",
   "execution_count": 14,
   "id": "498e87ff-e7ce-4b51-9f9a-0c2f0fd9d00d",
   "metadata": {},
   "outputs": [],
   "source": [
    "name='ayush'\n",
    "age=25"
   ]
  },
  {
   "cell_type": "code",
   "execution_count": 15,
   "id": "1b05da75-dcb9-4763-9f4e-9378096b0cd0",
   "metadata": {},
   "outputs": [
    {
     "name": "stdout",
     "output_type": "stream",
     "text": [
      "my name is ayush and my age is25\n"
     ]
    }
   ],
   "source": [
    "print('my name is {} and my age is{}'.format(name,age))"
   ]
  },
  {
   "cell_type": "code",
   "execution_count": 16,
   "id": "f2676f7f-4193-455c-b602-8c1d9df0d99b",
   "metadata": {},
   "outputs": [
    {
     "name": "stdout",
     "output_type": "stream",
     "text": [
      "my name is ayush and my age is25\n"
     ]
    }
   ],
   "source": [
    "print('my name is {firstname} and my age is{firstage}'.format(firstname=name,firstage=age))"
   ]
  },
  {
   "cell_type": "code",
   "execution_count": 3,
   "id": "01122346-e76c-4aea-a1cc-d538387bcead",
   "metadata": {},
   "outputs": [],
   "source": [
    "name='ayush'\n",
    "age=25\n",
    "degree='bba'\n"
   ]
  },
  {
   "cell_type": "code",
   "execution_count": 21,
   "id": "7756fe81-ecc9-44e5-8a12-9b2ca9bdd20d",
   "metadata": {},
   "outputs": [
    {
     "name": "stdout",
     "output_type": "stream",
     "text": [
      "my age is 25 and i have completed the degree of bba with the name of ayush\n"
     ]
    }
   ],
   "source": [
    "print('my age is {} and i have completed the degree of {} with the name of {}'.format(age,degree,name))"
   ]
  },
  {
   "cell_type": "code",
   "execution_count": 4,
   "id": "093ff788-aff3-44c3-9a4b-bbc1b89e2ba5",
   "metadata": {},
   "outputs": [
    {
     "name": "stdout",
     "output_type": "stream",
     "text": [
      "my age is 25 and i have completed the degree of bba with the name of ayush\n"
     ]
    }
   ],
   "source": [
    "print(f'my age is {age} and i have completed the degree of {degree} with the name of {name}')"
   ]
  },
  {
   "cell_type": "markdown",
   "id": "6e665801-82e3-434c-90e1-0f7c66444f25",
   "metadata": {},
   "source": [
    "control flow\n",
    "### decision making statements"
   ]
  },
  {
   "cell_type": "code",
   "execution_count": 9,
   "id": "afd0686a-eaaf-4fae-857a-d61026af6607",
   "metadata": {},
   "outputs": [
    {
     "data": {
      "text/plain": [
       "'==<=>='"
      ]
     },
     "execution_count": 9,
     "metadata": {},
     "output_type": "execute_result"
    }
   ],
   "source": [
    "##if statement\n",
    "==<=>="
   ]
  },
  {
   "cell_type": "code",
   "execution_count": 13,
   "id": "2e7fdde4-f90e-448b-81d6-dd095fb038fc",
   "metadata": {},
   "outputs": [
    {
     "name": "stdout",
     "output_type": "stream",
     "text": [
      "you are eligible to vote\n"
     ]
    }
   ],
   "source": [
    "age=19\n",
    "if age>=18:\n",
    "    print('you are eligible to vote')"
   ]
  },
  {
   "cell_type": "code",
   "execution_count": 17,
   "id": "6c951888-cb29-4eab-a317-93249f5bef05",
   "metadata": {},
   "outputs": [
    {
     "name": "stdin",
     "output_type": "stream",
     "text": [
      "enter your age 45\n"
     ]
    },
    {
     "name": "stdout",
     "output_type": "stream",
     "text": [
      "you are young blood\n"
     ]
    }
   ],
   "source": [
    "age=int(input('enter your age'))\n",
    "if age>=18 and age<=45:\n",
    "    print('you are young blood')"
   ]
  },
  {
   "cell_type": "code",
   "execution_count": 18,
   "id": "50b2bc55-7fd0-40e5-be06-416d67ed80b9",
   "metadata": {},
   "outputs": [],
   "source": [
    "## if else statement"
   ]
  },
  {
   "cell_type": "code",
   "execution_count": 20,
   "id": "67628fe7-f49b-45bd-b637-03d6e6901012",
   "metadata": {},
   "outputs": [
    {
     "name": "stdin",
     "output_type": "stream",
     "text": [
      "enter your age 42\n"
     ]
    },
    {
     "name": "stdout",
     "output_type": "stream",
     "text": [
      "you are young blood\n"
     ]
    }
   ],
   "source": [
    "age=int(input('enter your age'))\n",
    "if age>=18 and age<=45:\n",
    "    print('you are young blood')\n",
    "else:\n",
    "    print('thank you , your application is rejected')"
   ]
  },
  {
   "cell_type": "code",
   "execution_count": 25,
   "id": "7448f080-fcc0-4c8c-b99c-a75247d84652",
   "metadata": {},
   "outputs": [
    {
     "name": "stdin",
     "output_type": "stream",
     "text": [
      "enter the product price 1000\n"
     ]
    },
    {
     "name": "stdout",
     "output_type": "stream",
     "text": [
      "the product price is 700.0\n"
     ]
    }
   ],
   "source": [
    "price=int(input('enter the product price'))\n",
    "if price>1000:\n",
    "    print('the product price is {}'.format(price*.80))\n",
    "if price<=1000:\n",
    "    print('the product price is {}'.format(price*.70))\n"
   ]
  },
  {
   "cell_type": "code",
   "execution_count": 31,
   "id": "499b7ea9-8329-4aeb-82ee-ec7ffc7d887f",
   "metadata": {},
   "outputs": [
    {
     "name": "stdin",
     "output_type": "stream",
     "text": [
      "enter the product price 44\n"
     ]
    },
    {
     "name": "stdout",
     "output_type": "stream",
     "text": [
      "the price of product is 26.4\n"
     ]
    }
   ],
   "source": [
    "price=int(input('enter the product price'))\n",
    "if price>3000:\n",
    "    print('the product price is {}'.format(price*.80))\n",
    "elif price>=2000 and price<=3000:\n",
    "    print('the product price is {}'.format(price*.70))\n",
    "else:\n",
    "    price<=1000 and price<=2000\n",
    "    print(f'the price of product is {price*.60}')\n"
   ]
  },
  {
   "cell_type": "code",
   "execution_count": 1,
   "id": "188257b4-8b72-43ab-8bab-9bfff7685578",
   "metadata": {},
   "outputs": [
    {
     "name": "stdin",
     "output_type": "stream",
     "text": [
      "enter the product price 80\n"
     ]
    },
    {
     "name": "stdout",
     "output_type": "stream",
     "text": [
      "drink tea\n"
     ]
    }
   ],
   "source": [
    "price=int(input('enter the product price'))\n",
    "if price>3000:\n",
    "    if price==4000:\n",
    "        print('you will get a goa trip')\n",
    "    print('the product price is {}'.format(price*.80))\n",
    "elif price>=2000 and price<=3000:\n",
    "    if price==2999:\n",
    "        print('you will get an additional gift')\n",
    "    print('the product price is {}'.format(price*.70))\n",
    "elif price>=100 and price<=2000:\n",
    "    print(f'the price of product is {price*.60}')\n",
    "else:\n",
    "    price<100\n",
    "    print('drink tea')"
   ]
  },
  {
   "cell_type": "code",
   "execution_count": 2,
   "id": "90892f5a-3d01-497b-b84e-3f06ff91f16f",
   "metadata": {},
   "outputs": [],
   "source": [
    "# Single statement suites"
   ]
  },
  {
   "cell_type": "code",
   "execution_count": 4,
   "id": "0ada3fa7-df51-41b1-ba9e-88cb85a842ba",
   "metadata": {},
   "outputs": [
    {
     "name": "stdin",
     "output_type": "stream",
     "text": [
      "enter your number 8246\n"
     ]
    },
    {
     "name": "stdout",
     "output_type": "stream",
     "text": [
      "nothing\n"
     ]
    }
   ],
   "source": [
    "val=int(input('enter your number'))\n",
    "if (val<=1000):print('your no. is less than 1000')\n",
    "else:\n",
    "    print('nothing')"
   ]
  },
  {
   "cell_type": "code",
   "execution_count": null,
   "id": "12921218-6677-42d9-a146-4a9cdcd09ecd",
   "metadata": {},
   "outputs": [],
   "source": []
  }
 ],
 "metadata": {
  "kernelspec": {
   "display_name": "Python 3 (ipykernel)",
   "language": "python",
   "name": "python3"
  },
  "language_info": {
   "codemirror_mode": {
    "name": "ipython",
    "version": 3
   },
   "file_extension": ".py",
   "mimetype": "text/x-python",
   "name": "python",
   "nbconvert_exporter": "python",
   "pygments_lexer": "ipython3",
   "version": "3.10.8"
  }
 },
 "nbformat": 4,
 "nbformat_minor": 5
}
