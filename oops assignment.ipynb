{
 "cells": [
  {
   "cell_type": "markdown",
   "id": "2b0a6432-6687-4a19-b3b7-8731b4a76cf6",
   "metadata": {},
   "source": [
    "Ans1 :-In Object-Oriented Programming (OOP), a class is a blueprint or a template that defines a set of attributes (data) and methods (functions) that characterize an object. An object, on the other hand, is an instance of a class. It is created using the blueprint provided by the class and contains specific values for its attributes.\n",
    "\n",
    "For example, let's consider a class called \"Car\". This class defines attributes such as make, model, color, and year, and methods such as start(), stop(), accelerate(), and brake(). Using this class as a blueprint, we can create multiple objects such as a \"hyundai i-10\" object, a \"swift dezire\" object, and so on.\n",
    "\n",
    "example\n"
   ]
  },
  {
   "cell_type": "code",
   "execution_count": 6,
   "id": "f5decbe6-1b4d-415e-8417-8077c095af59",
   "metadata": {},
   "outputs": [],
   "source": [
    "class Car:\n",
    "    def __init__(self, make, model, color, year):\n",
    "        self.make = make\n",
    "        self.model = model\n",
    "        self.color = color\n",
    "        self.year = year"
   ]
  },
  {
   "cell_type": "code",
   "execution_count": 12,
   "id": "3ed4d467-9bd6-4106-9980-948f897760e6",
   "metadata": {},
   "outputs": [],
   "source": [
    "hyundai_i10 = Car(make='hyundai', model='i-10', color='red', year=2023)"
   ]
  },
  {
   "cell_type": "code",
   "execution_count": 15,
   "id": "70e4d2e5-3d04-474b-a4f4-6f7793bf8d13",
   "metadata": {},
   "outputs": [
    {
     "data": {
      "text/plain": [
       "'i-10'"
      ]
     },
     "execution_count": 15,
     "metadata": {},
     "output_type": "execute_result"
    }
   ],
   "source": [
    "hyundai_i10.model"
   ]
  },
  {
   "cell_type": "markdown",
   "id": "eb99b662-bc79-4498-bbd7-b95881a9cedb",
   "metadata": {},
   "source": [
    "Here, we are creating an instance of the Car class and assigning it to a variable called \"hyundai_i10\". The arguments passed to the constructor method specify the values for the object's attributes."
   ]
  },
  {
   "cell_type": "code",
   "execution_count": null,
   "id": "d7438d63-0f70-431e-8a1b-0036c25c1743",
   "metadata": {},
   "outputs": [],
   "source": []
  },
  {
   "cell_type": "markdown",
   "id": "163e43db-5a32-4143-a5f8-137577fa1b78",
   "metadata": {},
   "source": [
    "Ans2 :-The four pillars of Object-Oriented Programming (OOP) are:\n",
    "\n",
    "Encapsulation: Encapsulation is the process of hiding the implementation details of an object and exposing only the necessary information to the outside world. It allows us to protect the integrity of an object's data and prevent unauthorized access.\n",
    "\n",
    "Abstraction: Abstraction is the process of identifying the essential features of an object and ignoring the non-essential ones. It allows us to create simplified models of complex systems and focus on the relevant aspects of an object.\n",
    "\n",
    "Inheritance: Inheritance is the process of creating a new class from an existing class. The new class inherits the attributes and methods of the existing class and can also add new attributes and methods of its own. It allows us to create a hierarchy of classes with increasing levels of specialization.\n",
    "\n",
    "Polymorphism: Polymorphism is the ability of objects of different classes to be used interchangeably. It allows us to write code that can work with objects of multiple classes without needing to know the specific class of each object. Polymorphism can be achieved through method overriding or method overloading."
   ]
  },
  {
   "cell_type": "code",
   "execution_count": null,
   "id": "6d264868-93de-4011-84fb-2a00d81f116b",
   "metadata": {},
   "outputs": [],
   "source": []
  },
  {
   "cell_type": "markdown",
   "id": "674982be-ffa5-43c3-81d8-2793750be0c8",
   "metadata": {},
   "source": [
    "Ans3 :-In Python, the __init__() function is a constructor method that is automatically called when an object is created from a class. It is \n",
    "used to initialize the attributes or properties of an object during its creation."
   ]
  },
  {
   "cell_type": "code",
   "execution_count": 16,
   "id": "e3c4a179-2600-4956-a4a5-3c3cf4a84d3d",
   "metadata": {},
   "outputs": [],
   "source": [
    "class student:\n",
    "    def __init__(self,mobile_no,email_id):\n",
    "        self.mobile_no=mobile_no\n",
    "        self.email_id=email_id\n",
    "    def returnstudent_detail(self):\n",
    "        return(self.mobile_no,self.email_id)      "
   ]
  },
  {
   "cell_type": "code",
   "execution_count": 15,
   "id": "7c27f30c-8505-4a0c-aff5-a3b61cc5c13b",
   "metadata": {},
   "outputs": [],
   "source": [
    "ayush=student(8601234565,'ayus@gmail.com')"
   ]
  },
  {
   "cell_type": "code",
   "execution_count": 10,
   "id": "eb3698b7-4472-446b-aafd-2acf298f28b9",
   "metadata": {},
   "outputs": [
    {
     "data": {
      "text/plain": [
       "'ayus@gmail.com'"
      ]
     },
     "execution_count": 10,
     "metadata": {},
     "output_type": "execute_result"
    }
   ],
   "source": [
    "ayush.email_id"
   ]
  },
  {
   "cell_type": "code",
   "execution_count": 11,
   "id": "3bcd924e-73b7-4b72-ab08-28d1685d5819",
   "metadata": {},
   "outputs": [
    {
     "data": {
      "text/plain": [
       "8601234565"
      ]
     },
     "execution_count": 11,
     "metadata": {},
     "output_type": "execute_result"
    }
   ],
   "source": [
    "ayush.mobile_no"
   ]
  },
  {
   "cell_type": "code",
   "execution_count": 13,
   "id": "2e6d5b2e-0973-4542-84ba-50f335eb21cf",
   "metadata": {},
   "outputs": [
    {
     "data": {
      "text/plain": [
       "(8601234565, 'ayus@gmail.com')"
      ]
     },
     "execution_count": 13,
     "metadata": {},
     "output_type": "execute_result"
    }
   ],
   "source": [
    "ayush.returnstudent_detail()"
   ]
  },
  {
   "cell_type": "markdown",
   "id": "0f1cf330-a334-48c4-9e97-9ba8bee45dbb",
   "metadata": {},
   "source": [
    "In this example, the student class has an __init__() function that takes two arguments, mobile no. and email, and initializes the mobile no. and email attributes of the object. The self parameter refers to the object being created, and is used to set its attributes.\n",
    "\n",
    "When creating a new object of the student class, we pass the mobile no. and email arguments to the __init__() function, which then initializes the attributes of the object. "
   ]
  },
  {
   "cell_type": "code",
   "execution_count": null,
   "id": "f9161de2-0dfc-41b5-b24f-6fbac5a12433",
   "metadata": {},
   "outputs": [],
   "source": []
  },
  {
   "cell_type": "markdown",
   "id": "17f13367-8871-45f2-b2b5-e746b43ec349",
   "metadata": {},
   "source": [
    "Ans4 :-In Object-Oriented Programming (OOP), self is a reference variable used to refer to the current instance of a class. It is a way to access the attributes and methods of an object within its own class.\n",
    "\n",
    "When a method is called on an object, the object is automatically passed as the first argument to the method. By convention, this argument is named self. This allows the method to access and modify the object's attributes, and call other methods on the same object.\n",
    "\n",
    "example \n"
   ]
  },
  {
   "cell_type": "code",
   "execution_count": 17,
   "id": "86ab30bc-74d7-47b6-833b-b42a53a8eb8c",
   "metadata": {},
   "outputs": [],
   "source": [
    "class student:\n",
    "    def __init__(self,mobile_no,email_id):\n",
    "        self.mobile_no=mobile_no\n",
    "        self.email_id=email_id\n",
    "    def returnstudent_detail(self):\n",
    "        return(self.mobile_no,self.email_id) "
   ]
  },
  {
   "cell_type": "markdown",
   "id": "1c940f72-a036-4a7c-a19d-4bddb032cee9",
   "metadata": {},
   "source": [
    "In this student class, the self parameter is used to refer to the current instance of the class. In the __init__() method, self is used to set the instance variables mobile_no and email_id to the values passed in as parameters."
   ]
  },
  {
   "cell_type": "code",
   "execution_count": null,
   "id": "5978e4d3-2d79-4abf-b1c9-2486066c6b54",
   "metadata": {},
   "outputs": [],
   "source": []
  },
  {
   "cell_type": "markdown",
   "id": "6d8f5d5f-5f94-4ee3-a2e5-0f608903a41f",
   "metadata": {},
   "source": [
    "Ans5 :-Inheritance is a mechanism in object-oriented programming that allows one class to inherit properties and methods from another class. The class that is being inherited from is called the superclass or parent class, while the class that inherits from it is called the subclass or child class.\n",
    "\n",
    "There are four types of inheritance in Python:\n",
    "\n",
    "Single inheritance\n",
    "Multiple inheritance\n",
    "Multi-level inheritance\n",
    "Hierarchical inheritance\n",
    "1. Single inheritance\n",
    "Single inheritance is the simplest type of inheritance, in which a subclass inherits properties and methods from a single parent class. The subclass can add its own attributes and methods or override the ones inherited from the parent class.\n",
    "\n",
    "Example:"
   ]
  },
  {
   "cell_type": "code",
   "execution_count": 18,
   "id": "901d783b-4e9e-4b68-942e-3a751cf73418",
   "metadata": {},
   "outputs": [
    {
     "name": "stdout",
     "output_type": "stream",
     "text": [
      "Buddy is eating.\n",
      "Woof!\n"
     ]
    }
   ],
   "source": [
    "class Animal:\n",
    "    def __init__(self, name):\n",
    "        self.name = name\n",
    "    \n",
    "    def eat(self):\n",
    "        print(f\"{self.name} is eating.\")\n",
    "\n",
    "class Dog(Animal):\n",
    "    def bark(self):\n",
    "        print(\"Woof!\")\n",
    "\n",
    "my_dog = Dog(\"Buddy\")\n",
    "my_dog.eat()  \n",
    "my_dog.bark() \n"
   ]
  },
  {
   "cell_type": "markdown",
   "id": "fff256f1-6f04-4804-ad1a-40952f92c8ca",
   "metadata": {},
   "source": [
    "2. Multiple inheritance\n",
    "Multiple inheritance is a type of inheritance in which a subclass inherits properties and methods from multiple parent classes. This allows for greater flexibility in creating complex class hierarchies."
   ]
  },
  {
   "cell_type": "code",
   "execution_count": 19,
   "id": "1c51de99-6797-442e-b9fb-104ebb53a395",
   "metadata": {},
   "outputs": [
    {
     "name": "stdout",
     "output_type": "stream",
     "text": [
      "Method A\n"
     ]
    }
   ],
   "source": [
    "class A:\n",
    "    def method(self):\n",
    "        print(\"Method A\")\n",
    "\n",
    "class B:\n",
    "    def method(self):\n",
    "        print(\"Method B\")\n",
    "\n",
    "class C(A, B):\n",
    "    pass\n",
    "\n",
    "my_c = C()\n",
    "my_c.method() \n"
   ]
  },
  {
   "cell_type": "code",
   "execution_count": null,
   "id": "55f2c9e1-f0a3-4817-8b32-20297719eae4",
   "metadata": {},
   "outputs": [],
   "source": []
  },
  {
   "cell_type": "markdown",
   "id": "d0a8ae94-174e-4009-b2f8-26d9494e5b71",
   "metadata": {},
   "source": [
    "In this example, we define two parent classes A and B, each with their own method(). We then define a C class that inherits from both A and B using the syntax class C(A, B):.\n",
    "\n",
    "When we create an object of the C class and call its method() method, it prints \"Method A\". This is because the method() method of A is called first, since it is defined first in the list of parent classes. If we change the order of the parent classes to class C(B, A):, the method() method of B would be called first."
   ]
  },
  {
   "cell_type": "code",
   "execution_count": null,
   "id": "174f03fc-2e02-491e-91d9-9fe877800abe",
   "metadata": {},
   "outputs": [],
   "source": []
  },
  {
   "cell_type": "markdown",
   "id": "c542067d-7dc2-4a35-bd57-0ad76910c615",
   "metadata": {},
   "source": [
    "3. Multi-level inheritance\n",
    "Multi-level inheritance is a type of inheritance in which a subclass inherits properties and methods from a parent class, which in turn inherits from another parent class.\n",
    "\n",
    "Example:"
   ]
  },
  {
   "cell_type": "code",
   "execution_count": 20,
   "id": "ac590fdc-1a39-4ae4-92db-ac9c6db0c664",
   "metadata": {},
   "outputs": [
    {
     "name": "stdout",
     "output_type": "stream",
     "text": [
      "Method A\n"
     ]
    }
   ],
   "source": [
    "class A:\n",
    "    def method(self):\n",
    "        print(\"Method A\")\n",
    "\n",
    "class B(A):\n",
    "    pass\n",
    "\n",
    "class C(B):\n",
    "    pass\n",
    "\n",
    "my_c = C()\n",
    "my_c.method() \n"
   ]
  },
  {
   "cell_type": "code",
   "execution_count": null,
   "id": "5266faeb-cdf0-4244-9627-6700cb2b42fb",
   "metadata": {},
   "outputs": [],
   "source": []
  },
  {
   "cell_type": "markdown",
   "id": "a73d46d5-e59d-46f7-942e-01dd400e6276",
   "metadata": {},
   "source": [
    "In this example, we define a A class with a method(). We then define a B class that inherits from A, and a C class that inherits from B.\n",
    "\n",
    "When we create an object of the C class and call its method() method, it prints \"Method A\". This is because the method() method is inherited from the A"
   ]
  },
  {
   "cell_type": "code",
   "execution_count": null,
   "id": "00bfbb04-82fb-4b61-bfa9-bebd7a58c194",
   "metadata": {},
   "outputs": [],
   "source": []
  },
  {
   "cell_type": "markdown",
   "id": "63a5c827-7e6b-4108-affa-4527dd4d7845",
   "metadata": {},
   "source": [
    "4.Hierarchical inheritance is a type of inheritance in which multiple subclasses inherit from a single parent class. This means that the parent class becomes the root of a hierarchy, with multiple subclasses branching off from it.\n",
    "\n",
    "Here's an example to illustrate hierarchical inheritance:"
   ]
  },
  {
   "cell_type": "code",
   "execution_count": 21,
   "id": "066b602a-6b8a-48e9-92b6-94b574f8e2ba",
   "metadata": {},
   "outputs": [
    {
     "name": "stdout",
     "output_type": "stream",
     "text": [
      "Whiskers is eating.\n",
      "Meow!\n",
      "Buddy is eating.\n",
      "Woof!\n"
     ]
    }
   ],
   "source": [
    "class Animal:\n",
    "    def __init__(self, name):\n",
    "        self.name = name\n",
    "    \n",
    "    def eat(self):\n",
    "        print(f\"{self.name} is eating.\")\n",
    "\n",
    "class Cat(Animal):\n",
    "    def meow(self):\n",
    "        print(\"Meow!\")\n",
    "\n",
    "class Dog(Animal):\n",
    "    def bark(self):\n",
    "        print(\"Woof!\")\n",
    "\n",
    "my_cat = Cat(\"Whiskers\")\n",
    "my_dog = Dog(\"Buddy\")\n",
    "\n",
    "my_cat.eat() \n",
    "my_cat.meow() \n",
    "\n",
    "my_dog.eat()  \n",
    "my_dog.bark() "
   ]
  },
  {
   "cell_type": "code",
   "execution_count": null,
   "id": "c481fa3c-b42e-44ef-9cb6-cccd5db28e80",
   "metadata": {},
   "outputs": [],
   "source": []
  },
  {
   "cell_type": "markdown",
   "id": "1dc3ea53-6498-4a2d-bd51-a65af4641321",
   "metadata": {},
   "source": [
    "In this example, we define an Animal class with an eat() method. We then define two subclasses, Cat and Dog, that inherit from Animal. The Cat\n",
    "subclass adds its own meow() method, while the Dog subclass adds its own bark() method.\n",
    "\n",
    "When we create objects of the Cat and Dog classes, we can call the eat() method on both of them, since it is inherited from the Animal class.\n",
    "However, we can also call the meow() method on the Cat object and the bark() method on the Dog object, since those methods are specific to their\n",
    "respective subclasses."
   ]
  },
  {
   "cell_type": "code",
   "execution_count": null,
   "id": "74077620-1fa8-4646-aba9-9796f812b634",
   "metadata": {},
   "outputs": [],
   "source": []
  }
 ],
 "metadata": {
  "kernelspec": {
   "display_name": "Python 3 (ipykernel)",
   "language": "python",
   "name": "python3"
  },
  "language_info": {
   "codemirror_mode": {
    "name": "ipython",
    "version": 3
   },
   "file_extension": ".py",
   "mimetype": "text/x-python",
   "name": "python",
   "nbconvert_exporter": "python",
   "pygments_lexer": "ipython3",
   "version": "3.10.8"
  }
 },
 "nbformat": 4,
 "nbformat_minor": 5
}
