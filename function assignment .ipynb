{
 "cells": [
  {
   "cell_type": "markdown",
   "id": "74ab0b5f-7616-4108-a39c-a60e0bb5ea75",
   "metadata": {},
   "source": [
    "Ans1 :- the word def is used to create a function. "
   ]
  },
  {
   "cell_type": "code",
   "execution_count": 10,
   "id": "5fa19982-e1f8-4def-96c8-7f897679572b",
   "metadata": {},
   "outputs": [],
   "source": [
    "def test(n):\n",
    "    n=[]\n",
    "    for i in range(1,26):\n",
    "        if i%2!=0:\n",
    "            n.append(i)\n",
    "    return n"
   ]
  },
  {
   "cell_type": "code",
   "execution_count": 11,
   "id": "807e1715-5dc9-4ead-ae02-56f5825e17d7",
   "metadata": {},
   "outputs": [
    {
     "data": {
      "text/plain": [
       "[1, 3, 5, 7, 9, 11, 13, 15, 17, 19, 21, 23, 25]"
      ]
     },
     "execution_count": 11,
     "metadata": {},
     "output_type": "execute_result"
    }
   ],
   "source": [
    "test(25)"
   ]
  },
  {
   "cell_type": "code",
   "execution_count": null,
   "id": "7812eb3f-4a26-4d41-94a1-84181afd363e",
   "metadata": {},
   "outputs": [],
   "source": []
  },
  {
   "cell_type": "markdown",
   "id": "170172fe-46b5-4313-9f96-bc042b1d2661",
   "metadata": {},
   "source": [
    "Ans2 :- *args and **kwargs are used in functions to accept a varying number of arguments.\n",
    "\n",
    "*args is used to pass a variable number of arguments to a function. It allows you to pass any number of arguments to a function without needing to specify them individually. Inside the function, *args is treated as a tuple of all the arguments passed in. Here's an example of a function that uses *args to calculate the sum of all its arguments:"
   ]
  },
  {
   "cell_type": "code",
   "execution_count": 12,
   "id": "343904e4-958f-4d8d-9508-d6b3ee46b425",
   "metadata": {},
   "outputs": [],
   "source": [
    "def sum_all(*args):\n",
    "    result = sum(args)\n",
    "    return result\n"
   ]
  },
  {
   "cell_type": "code",
   "execution_count": 13,
   "id": "89c824c7-a879-4d79-b6b5-aa7739709b8b",
   "metadata": {},
   "outputs": [
    {
     "data": {
      "text/plain": [
       "15"
      ]
     },
     "execution_count": 13,
     "metadata": {},
     "output_type": "execute_result"
    }
   ],
   "source": [
    "sum_all(1,2,3,4,5)"
   ]
  },
  {
   "cell_type": "markdown",
   "id": "93515b4f-2aaa-42be-a051-1ac8484f8147",
   "metadata": {},
   "source": [
    "In this function, the *args parameter is used to accept any number of arguments, and sum() is used to add them all up."
   ]
  },
  {
   "cell_type": "code",
   "execution_count": null,
   "id": "44fa5df5-1c25-4f1c-b0e4-4fdb15d16990",
   "metadata": {},
   "outputs": [],
   "source": []
  },
  {
   "cell_type": "markdown",
   "id": "16d4db09-bf60-4d6c-9df3-cb5035f244f0",
   "metadata": {},
   "source": [
    "**kwargs is similar to *args, but it allows you to pass keyword arguments instead of just positional arguments. It stands for \"keyword arguments\". Inside the function, **kwargs is treated as a dictionary containing all the keyword arguments passed in. Here's an example of a function that uses **kwargs to print out all its keyword arguments:"
   ]
  },
  {
   "cell_type": "code",
   "execution_count": 14,
   "id": "d433f888-5797-4901-a826-6479bc8af964",
   "metadata": {},
   "outputs": [],
   "source": [
    "def test1(**kwargs):\n",
    "    return kwargs"
   ]
  },
  {
   "cell_type": "code",
   "execution_count": 15,
   "id": "2fefd6b0-6880-41c5-b5f3-4a1d5876f30d",
   "metadata": {},
   "outputs": [
    {
     "data": {
      "text/plain": [
       "{'a': 1, 'b': 2, 'c': 3, 'd': 'leo', 'e': 'messi'}"
      ]
     },
     "execution_count": 15,
     "metadata": {},
     "output_type": "execute_result"
    }
   ],
   "source": [
    "test1(a=1,b=2,c=3,d='leo',e='messi')"
   ]
  },
  {
   "cell_type": "markdown",
   "id": "75fe7b33-33b8-497e-9874-a6bda82475d8",
   "metadata": {},
   "source": [
    "here a,b,c,d,e are keys and 1,2,3,leo and messi are values"
   ]
  },
  {
   "cell_type": "code",
   "execution_count": null,
   "id": "340acf0e-89fb-447f-8434-2806dc9401b6",
   "metadata": {},
   "outputs": [],
   "source": []
  },
  {
   "cell_type": "markdown",
   "id": "34b1b858-c4d9-4fa2-8bbe-91dff163734c",
   "metadata": {},
   "source": [
    "Ans3 :-An iterator is an object that contains a countable number of values.\n",
    "\n",
    "An iterator is an object that can be iterated upon, meaning that you can traverse through all the values.\n",
    "\n",
    "Technically, in Python, an iterator is an object which implements the iterator protocol, which consist of the \n",
    "methods __iter__() and __next__()."
   ]
  },
  {
   "cell_type": "code",
   "execution_count": 16,
   "id": "69bdd00d-95a8-4e16-98a4-0e643abca4e9",
   "metadata": {},
   "outputs": [
    {
     "name": "stdout",
     "output_type": "stream",
     "text": [
      "2\n",
      "4\n",
      "6\n",
      "8\n",
      "10\n"
     ]
    }
   ],
   "source": [
    "my_list = [2, 4, 6, 8, 10, 12, 14, 16, 18, 20]\n",
    "my_iterator = iter(my_list)\n",
    "for i in range(5):\n",
    "    value = next(my_iterator)\n",
    "    print(value)"
   ]
  },
  {
   "cell_type": "code",
   "execution_count": null,
   "id": "2971a649-6271-4401-83b9-ad43ba8dfca4",
   "metadata": {},
   "outputs": [],
   "source": []
  },
  {
   "cell_type": "markdown",
   "id": "7d1cdf9c-332d-4b89-bce8-8a05f8259392",
   "metadata": {},
   "source": [
    "Ans4 :-In Python, a generator function is a special kind of function that generates a sequence of values that can be \n",
    "iterated over one at a time. Unlike regular functions, generator functions use the yield keyword instead of return to\n",
    "return a value. When the yield keyword is used, the function's state is saved, and the next time the function is \n",
    "called, it resumes where it left off.\n",
    "\n",
    "The main advantage of using a generator function is that it can generate an infinite sequence of values without needing\n",
    "to store them all in memory at once. This makes generator functions very memory-efficient and ideal for situations where \n",
    "you need to generate a large sequence of values, but you don't want to consume a lot of memory.\n",
    "\n",
    "example - fibonacci series"
   ]
  },
  {
   "cell_type": "code",
   "execution_count": 17,
   "id": "88f23a4e-085f-4990-aee8-2eee5b87fc3a",
   "metadata": {},
   "outputs": [],
   "source": [
    "def test2(n):\n",
    "    a,b=0,1\n",
    "    for i in range(n):\n",
    "        yield a\n",
    "        a,b=b,a+b"
   ]
  },
  {
   "cell_type": "code",
   "execution_count": 19,
   "id": "81c5970d-3bff-4b0e-8a97-43cb53314758",
   "metadata": {},
   "outputs": [
    {
     "data": {
      "text/plain": [
       "[0, 1, 1, 2, 3, 5, 8, 13, 21, 34]"
      ]
     },
     "execution_count": 19,
     "metadata": {},
     "output_type": "execute_result"
    }
   ],
   "source": [
    "list(test2(10))"
   ]
  },
  {
   "cell_type": "code",
   "execution_count": null,
   "id": "cb8f15d6-bbc1-4a4d-bacc-3e1f73012ffd",
   "metadata": {},
   "outputs": [],
   "source": []
  },
  {
   "cell_type": "markdown",
   "id": "016c288a-d15d-4022-8f30-cc84f69d5652",
   "metadata": {},
   "source": [
    "Ans5 :-"
   ]
  },
  {
   "cell_type": "code",
   "execution_count": 22,
   "id": "76501824-4aaf-41ae-8024-aa3a1ecf4096",
   "metadata": {},
   "outputs": [],
   "source": [
    "def test3():\n",
    "    primes = [2]\n",
    "    for number in range(3, 1000, 2):\n",
    "        is_prime = True\n",
    "        for prime in primes:\n",
    "            if number % prime == 0:\n",
    "                is_prime = False\n",
    "                break\n",
    "        if is_prime:\n",
    "            primes.append(number)\n",
    "            yield number\n"
   ]
  },
  {
   "cell_type": "code",
   "execution_count": 24,
   "id": "6f044689-8857-4442-a99e-2fef37c068d9",
   "metadata": {},
   "outputs": [
    {
     "data": {
      "text/plain": [
       "[3,\n",
       " 5,\n",
       " 7,\n",
       " 11,\n",
       " 13,\n",
       " 17,\n",
       " 19,\n",
       " 23,\n",
       " 29,\n",
       " 31,\n",
       " 37,\n",
       " 41,\n",
       " 43,\n",
       " 47,\n",
       " 53,\n",
       " 59,\n",
       " 61,\n",
       " 67,\n",
       " 71,\n",
       " 73,\n",
       " 79,\n",
       " 83,\n",
       " 89,\n",
       " 97,\n",
       " 101,\n",
       " 103,\n",
       " 107,\n",
       " 109,\n",
       " 113,\n",
       " 127,\n",
       " 131,\n",
       " 137,\n",
       " 139,\n",
       " 149,\n",
       " 151,\n",
       " 157,\n",
       " 163,\n",
       " 167,\n",
       " 173,\n",
       " 179,\n",
       " 181,\n",
       " 191,\n",
       " 193,\n",
       " 197,\n",
       " 199,\n",
       " 211,\n",
       " 223,\n",
       " 227,\n",
       " 229,\n",
       " 233,\n",
       " 239,\n",
       " 241,\n",
       " 251,\n",
       " 257,\n",
       " 263,\n",
       " 269,\n",
       " 271,\n",
       " 277,\n",
       " 281,\n",
       " 283,\n",
       " 293,\n",
       " 307,\n",
       " 311,\n",
       " 313,\n",
       " 317,\n",
       " 331,\n",
       " 337,\n",
       " 347,\n",
       " 349,\n",
       " 353,\n",
       " 359,\n",
       " 367,\n",
       " 373,\n",
       " 379,\n",
       " 383,\n",
       " 389,\n",
       " 397,\n",
       " 401,\n",
       " 409,\n",
       " 419,\n",
       " 421,\n",
       " 431,\n",
       " 433,\n",
       " 439,\n",
       " 443,\n",
       " 449,\n",
       " 457,\n",
       " 461,\n",
       " 463,\n",
       " 467,\n",
       " 479,\n",
       " 487,\n",
       " 491,\n",
       " 499,\n",
       " 503,\n",
       " 509,\n",
       " 521,\n",
       " 523,\n",
       " 541,\n",
       " 547,\n",
       " 557,\n",
       " 563,\n",
       " 569,\n",
       " 571,\n",
       " 577,\n",
       " 587,\n",
       " 593,\n",
       " 599,\n",
       " 601,\n",
       " 607,\n",
       " 613,\n",
       " 617,\n",
       " 619,\n",
       " 631,\n",
       " 641,\n",
       " 643,\n",
       " 647,\n",
       " 653,\n",
       " 659,\n",
       " 661,\n",
       " 673,\n",
       " 677,\n",
       " 683,\n",
       " 691,\n",
       " 701,\n",
       " 709,\n",
       " 719,\n",
       " 727,\n",
       " 733,\n",
       " 739,\n",
       " 743,\n",
       " 751,\n",
       " 757,\n",
       " 761,\n",
       " 769,\n",
       " 773,\n",
       " 787,\n",
       " 797,\n",
       " 809,\n",
       " 811,\n",
       " 821,\n",
       " 823,\n",
       " 827,\n",
       " 829,\n",
       " 839,\n",
       " 853,\n",
       " 857,\n",
       " 859,\n",
       " 863,\n",
       " 877,\n",
       " 881,\n",
       " 883,\n",
       " 887,\n",
       " 907,\n",
       " 911,\n",
       " 919,\n",
       " 929,\n",
       " 937,\n",
       " 941,\n",
       " 947,\n",
       " 953,\n",
       " 967,\n",
       " 971,\n",
       " 977,\n",
       " 983,\n",
       " 991,\n",
       " 997]"
      ]
     },
     "execution_count": 24,
     "metadata": {},
     "output_type": "execute_result"
    }
   ],
   "source": [
    "list(test3())"
   ]
  },
  {
   "cell_type": "code",
   "execution_count": null,
   "id": "52f61ff8-271a-4c31-a9c6-cc1742810c88",
   "metadata": {},
   "outputs": [],
   "source": []
  },
  {
   "cell_type": "markdown",
   "id": "acac9b81-cf12-47b6-baad-02a099eb0a9d",
   "metadata": {},
   "source": [
    "the next() method to print the first 20 prime numbers is "
   ]
  },
  {
   "cell_type": "code",
   "execution_count": 25,
   "id": "6cb48555-78b9-45a7-b534-ed83531f4979",
   "metadata": {},
   "outputs": [
    {
     "name": "stdout",
     "output_type": "stream",
     "text": [
      "3\n",
      "5\n",
      "7\n",
      "11\n",
      "13\n",
      "17\n",
      "19\n",
      "23\n",
      "29\n",
      "31\n",
      "37\n",
      "41\n",
      "43\n",
      "47\n",
      "53\n",
      "59\n",
      "61\n",
      "67\n",
      "71\n",
      "73\n"
     ]
    }
   ],
   "source": [
    "def generate_primes():\n",
    "\n",
    "    primes = [2]\n",
    "\n",
    " \n",
    "    number = 3\n",
    "    while True:\n",
    "        is_prime = True\n",
    "        for prime in primes:\n",
    "            if prime * prime > number:\n",
    "                break\n",
    "            if number % prime == 0:\n",
    "                is_prime = False\n",
    "                break\n",
    "        if is_prime:\n",
    "            primes.append(number)\n",
    "            yield number\n",
    "        number += 2\n",
    "\n",
    "\n",
    "prime_generator = generate_primes()\n",
    "\n",
    "\n",
    "for i in range(20):\n",
    "    print(next(prime_generator))\n"
   ]
  },
  {
   "cell_type": "code",
   "execution_count": null,
   "id": "6484748c-116d-4750-b67f-be4f91d17c78",
   "metadata": {},
   "outputs": [],
   "source": []
  }
 ],
 "metadata": {
  "kernelspec": {
   "display_name": "Python 3 (ipykernel)",
   "language": "python",
   "name": "python3"
  },
  "language_info": {
   "codemirror_mode": {
    "name": "ipython",
    "version": 3
   },
   "file_extension": ".py",
   "mimetype": "text/x-python",
   "name": "python",
   "nbconvert_exporter": "python",
   "pygments_lexer": "ipython3",
   "version": "3.10.8"
  }
 },
 "nbformat": 4,
 "nbformat_minor": 5
}
