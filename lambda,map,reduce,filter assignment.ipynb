{
 "cells": [
  {
   "cell_type": "markdown",
   "id": "f2ef6886-7e61-4995-bd45-52f97d735f30",
   "metadata": {},
   "source": [
    "Ans1 :-"
   ]
  },
  {
   "cell_type": "code",
   "execution_count": 1,
   "id": "48211443-177e-4f58-85ad-b44c8d4c0721",
   "metadata": {},
   "outputs": [
    {
     "name": "stdout",
     "output_type": "stream",
     "text": [
      "[('Virat Kohli', 24936), ('Jack Kallis', 25534), ('Ricky Ponting', 27483), ('Sachin Tendulkar', 34357)]\n"
     ]
    }
   ],
   "source": [
    "lst = [('Sachin Tendulkar', 34357), ('Ricky Ponting', 27483), ('Jack Kallis', 25534), ('Virat Kohli', 24936)]\n",
    "\n",
    "sorted_lst = sorted(lst, key=lambda x: x[1])\n",
    "\n",
    "print(sorted_lst)"
   ]
  },
  {
   "cell_type": "code",
   "execution_count": null,
   "id": "cb560e31-ef28-459d-8845-58199cb96507",
   "metadata": {},
   "outputs": [],
   "source": []
  },
  {
   "cell_type": "markdown",
   "id": "a2d28b7a-58ae-410f-bf84-2b74d101af3e",
   "metadata": {},
   "source": [
    "Ans2 :-"
   ]
  },
  {
   "cell_type": "code",
   "execution_count": 8,
   "id": "61a2c456-939e-4613-886c-3f8c0b537c54",
   "metadata": {},
   "outputs": [
    {
     "data": {
      "text/plain": [
       "[1, 4, 9, 16, 25, 36, 49, 64, 81, 100]"
      ]
     },
     "execution_count": 8,
     "metadata": {},
     "output_type": "execute_result"
    }
   ],
   "source": [
    "l=[1, 2, 3, 4, 5, 6, 7, 8, 9, 10]\n",
    "list(map(lambda x : x**2,l))"
   ]
  },
  {
   "cell_type": "code",
   "execution_count": null,
   "id": "e99093ec-a4df-41da-8722-98d940b9ca37",
   "metadata": {},
   "outputs": [],
   "source": []
  },
  {
   "cell_type": "markdown",
   "id": "fde19b0a-cc3d-483c-8eea-38d825171003",
   "metadata": {},
   "source": [
    "Ans3 :-Given String: [1, 2, 3, 4, 5, 6, 7, 8, 9, 10]\n",
    "\n",
    "Expected output: ('1', '2', '3', '4', '5', '6', '7', '8', '9', '10')"
   ]
  },
  {
   "cell_type": "code",
   "execution_count": 19,
   "id": "d26246e5-9022-4a21-aa97-723d10197b37",
   "metadata": {},
   "outputs": [],
   "source": [
    "l=[1, 2, 3, 4, 5, 6, 7, 8, 9, 10]"
   ]
  },
  {
   "cell_type": "code",
   "execution_count": 25,
   "id": "9518c98c-2bac-45a5-a79d-c93a8cb48fc9",
   "metadata": {},
   "outputs": [
    {
     "name": "stdout",
     "output_type": "stream",
     "text": [
      "('1', '2', '3', '4', '5', '6', '7', '8', '9', '10')\n"
     ]
    }
   ],
   "source": [
    "expected_output=tuple(map(lambda x: str(x),l))\n",
    "print(expected_output)"
   ]
  },
  {
   "cell_type": "code",
   "execution_count": null,
   "id": "d86deec4-3119-4db0-9f04-710f540b80a1",
   "metadata": {},
   "outputs": [],
   "source": []
  },
  {
   "cell_type": "markdown",
   "id": "811ebe32-f557-423a-859c-5a81ba6fa2e4",
   "metadata": {},
   "source": [
    "Ans4 :-"
   ]
  },
  {
   "cell_type": "code",
   "execution_count": 27,
   "id": "0f02fb62-e8dc-47fb-a5b4-cab93c184248",
   "metadata": {},
   "outputs": [],
   "source": [
    "from functools import reduce"
   ]
  },
  {
   "cell_type": "code",
   "execution_count": 34,
   "id": "35bcf11c-5689-468e-8726-e4f1892fe833",
   "metadata": {},
   "outputs": [
    {
     "data": {
      "text/plain": [
       "15511210043330985984000000"
      ]
     },
     "execution_count": 34,
     "metadata": {},
     "output_type": "execute_result"
    }
   ],
   "source": [
    "reduce(lambda x,y:x*y,range(1,26))"
   ]
  },
  {
   "cell_type": "code",
   "execution_count": null,
   "id": "d390c9a1-8a76-4b78-8287-2acd2aca4afe",
   "metadata": {},
   "outputs": [],
   "source": []
  },
  {
   "cell_type": "markdown",
   "id": "41fa8424-3822-4700-bedd-1ee0a4299e01",
   "metadata": {},
   "source": [
    "Ans5 :- number divisible by 2 & 3 are"
   ]
  },
  {
   "cell_type": "code",
   "execution_count": 35,
   "id": "80e8c87c-c3bb-4647-8258-85a23d3e25c0",
   "metadata": {},
   "outputs": [],
   "source": [
    "l=[2, 3, 6, 9, 27, 60, 90, 120, 55, 46]"
   ]
  },
  {
   "cell_type": "code",
   "execution_count": 45,
   "id": "b4554044-4108-4f29-b6a4-9a5831568470",
   "metadata": {},
   "outputs": [
    {
     "data": {
      "text/plain": [
       "[6, 60, 90, 120]"
      ]
     },
     "execution_count": 45,
     "metadata": {},
     "output_type": "execute_result"
    }
   ],
   "source": [
    "list(filter(lambda x: x % 2==0 and x % 3 == 0,l))"
   ]
  },
  {
   "cell_type": "code",
   "execution_count": null,
   "id": "0cab2a95-f628-482d-9f51-856a2cd8b0cb",
   "metadata": {},
   "outputs": [],
   "source": []
  },
  {
   "cell_type": "markdown",
   "id": "5a1211e3-1321-4649-8a29-c4ccc9ec25b2",
   "metadata": {},
   "source": [
    "Ans6 :-   palindromes in the given list of strings are"
   ]
  },
  {
   "cell_type": "code",
   "execution_count": 47,
   "id": "01809ecc-10cd-4a43-9afc-6dde3a07924e",
   "metadata": {},
   "outputs": [],
   "source": [
    "l=['python', 'php', 'aba', 'radar', 'level']"
   ]
  },
  {
   "cell_type": "code",
   "execution_count": 49,
   "id": "74cd6f31-9bb0-4e93-aafd-af595af3f133",
   "metadata": {},
   "outputs": [
    {
     "data": {
      "text/plain": [
       "['php', 'aba', 'radar', 'level']"
      ]
     },
     "execution_count": 49,
     "metadata": {},
     "output_type": "execute_result"
    }
   ],
   "source": [
    "list(filter(lambda x: x[::-1]==x[::],l))"
   ]
  },
  {
   "cell_type": "code",
   "execution_count": null,
   "id": "334d2c65-10b9-43a0-a033-9b3e5e2326ef",
   "metadata": {},
   "outputs": [],
   "source": []
  }
 ],
 "metadata": {
  "kernelspec": {
   "display_name": "Python 3 (ipykernel)",
   "language": "python",
   "name": "python3"
  },
  "language_info": {
   "codemirror_mode": {
    "name": "ipython",
    "version": 3
   },
   "file_extension": ".py",
   "mimetype": "text/x-python",
   "name": "python",
   "nbconvert_exporter": "python",
   "pygments_lexer": "ipython3",
   "version": "3.10.8"
  }
 },
 "nbformat": 4,
 "nbformat_minor": 5
}
